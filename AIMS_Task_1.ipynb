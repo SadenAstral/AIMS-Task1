{
  "nbformat": 4,
  "nbformat_minor": 0,
  "metadata": {
    "colab": {
      "provenance": []
    },
    "kernelspec": {
      "name": "python3",
      "display_name": "Python 3"
    },
    "language_info": {
      "name": "python"
    }
  },
  "cells": [
    {
      "cell_type": "code",
      "execution_count": 3,
      "metadata": {
        "id": "BzvEiT1K3NWd"
      },
      "outputs": [],
      "source": [
        "import pandas as pd\n",
        "import numpy as np"
      ]
    },
    {
      "cell_type": "code",
      "source": [
        "def SimpleImputer(dataframe,mode='mean'):\n",
        "\n",
        "    df_imputed = dataframe.copy()\n",
        "    if mode=='mean':\n",
        "        impute_value=df_imputed.mean()\n",
        "    elif mode=='median':\n",
        "        impute_value = df_imputed.median()\n",
        "    elif mode=='mode':\n",
        "        impute_value = df_imputed.mode().iloc[0]\n",
        "    df_imputed.fillna(impute_value, inplace=True)\n",
        "\n",
        "    return df_imputed\n"
      ],
      "metadata": {
        "id": "i_MJt8HG3h0k"
      },
      "execution_count": 4,
      "outputs": []
    },
    {
      "cell_type": "code",
      "source": [
        "def OrdinalEncoder(dataframe,mapping):\n",
        "    df_encoded=dataframe.copy()\n",
        "    for column,map in mapping.items():\n",
        "        df_encoded[column] = df_encoded[column].map(map)\n",
        "\n",
        "    return df_encoded\n"
      ],
      "metadata": {
        "id": "smmWZyP04Q43"
      },
      "execution_count": 5,
      "outputs": []
    },
    {
      "cell_type": "code",
      "source": [
        "def OneHotEncoder(dataframe,encode_columns):\n",
        "    df_ohencoded = dataframe.copy()\n",
        "    df_ohencoded = pd.get_dummies(df_ohencoded,columns=encode_columns,prefix=encode_columns)\n",
        "\n",
        "    return df_ohencoded\n"
      ],
      "metadata": {
        "id": "_OPNtgua42C1"
      },
      "execution_count": 6,
      "outputs": []
    }
  ]
}